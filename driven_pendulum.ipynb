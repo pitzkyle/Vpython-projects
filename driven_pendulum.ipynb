{
 "cells": [
  {
   "cell_type": "code",
   "execution_count": null,
   "metadata": {},
   "outputs": [],
   "source": [
    "from vpython import * # vpython also imports math package\n",
    "import numpy as np\n",
    "scene = canvas()"
   ]
  },
  {
   "cell_type": "code",
   "execution_count": null,
   "metadata": {},
   "outputs": [],
   "source": [
    "## Set initial conditions and constants\n",
    "\n",
    "theta = 0\n",
    "dtheta = 0\n",
    "l = 0.4\n",
    "A = 0.02\n",
    "g = 9.81\n",
    "omega_0 = sqrt(g/l)\n",
    "t = 0\n",
    "dt = 0.01"
   ]
  },
  {
   "cell_type": "code",
   "execution_count": null,
   "metadata": {},
   "outputs": [],
   "source": [
    "## Set up run button function - run/pause the simulation\n",
    "\n",
    "run = False\n",
    "def runbutton(b):\n",
    "    global run\n",
    "    if run: b.text = 'Run'\n",
    "    else: b.text = 'Pause'\n",
    "    run = not run\n",
    "    \n",
    "    \n",
    "## Set up reset button - to return system to initial state\n",
    "\n",
    "def resetbutton(c):\n",
    "    global t, base, omega, omega_0, mass, rod, theta, dtheta, run, b#, d\n",
    "    run = False\n",
    "    b.text = 'Run'\n",
    "    t = 0\n",
    "    theta = 0\n",
    "    dtheta = 0\n",
    "    #d.value = omega_0\n",
    "    base.pos = vec(A*sin(omega*t),0.25,0)\n",
    "    mass.pos = base.pos + vec(l*sin(theta), -l*cos(theta), 0)\n",
    "    mass.clear_trail()\n",
    "    rod.pos = base.pos\n",
    "    rod.axis = mass.pos - base.pos\n",
    "    freq_slider.value = omega_0\n",
    "    omega = omega_0\n",
    "    \n",
    "    \n",
    "## Set up slider for driven frequency\n",
    "\n",
    "def omega_slider(d):\n",
    "    global omega\n",
    "    omega = d.value\n",
    "\n",
    "    \n",
    "## A function to truncate the displayed frequency of slider_label for visual neatness in GUI\n",
    "\n",
    "def truncate(number, digits) -> float:\n",
    "    stepper = 10.0 ** digits\n",
    "    return trunc(stepper * number) / stepper"
   ]
  },
  {
   "cell_type": "code",
   "execution_count": null,
   "metadata": {},
   "outputs": [],
   "source": [
    "## Set positions of objects in vpython\n",
    "\n",
    "omega = omega_0 # needed to do this so the slider reset to the same frequency using reset button\n",
    "base = box(pos = vec(A*sin(omega*t),0.25,0), size = vec(0.1,0.04,0.07), color = color.red)\n",
    "mass = sphere(pos = base.pos + vec(l*sin(theta), -l*cos(theta), 0), radius = 0.04, color = color.red, make_trail=True, trail_color=color.yellow)\n",
    "rod = cylinder(pos = base.pos, axis = mass.pos - base.pos, radius = 0.007, color = color.orange)\n",
    "\n",
    "## Call buttons and slider\n",
    "\n",
    "b = button(text='Run', bind=runbutton) # call run button function\n",
    "c = button(text='Reset', bind=resetbutton) # call reset button function\n",
    "slider_label = wtext(pos=scene.caption_anchor, text = 'Adjust the driving frequency: &omega; =' + np.str(truncate(omega/omega_0, 2)) + '&radic;<span style=\"text-decoration:overline;\">&nbsp;g/l</span>')\n",
    "freq_slider = slider(bind=omega_slider, min=0, max=3*sqrt(g/l), length=300)\n",
    "freq_slider.value = omega\n",
    "\n",
    "\n",
    "## Animate by numerically evaluating equations of motion from Lagrangian mechanics\n",
    "\n",
    "while True:\n",
    "    rate(100)\n",
    "    if run:\n",
    "        ddtheta = -(g/l)*sin(theta) + (A/l)*omega**2*cos(omega*t)*cos(theta)\n",
    "        dtheta = dtheta + ddtheta*dt\n",
    "        theta = theta + dtheta*dt\n",
    "        t = t + dt\n",
    "        base.pos = vec(A*sin(omega*t), 0.25, 0)\n",
    "        mass.pos = base.pos + vec(l*sin(theta), -l*cos(theta), 0)\n",
    "        rod.pos = base.pos\n",
    "        rod.axis = mass.pos - base.pos\n",
    "    slider_label.text = 'Adjust the driving frequency: &omega; = '+ np.str(truncate(omega/omega_0, 2)) + '&radic;<span style=\"text-decoration:overline;\">&nbsp;g/l</span>' #to update slider label\n",
    "                                                                              "
   ]
  },
  {
   "cell_type": "code",
   "execution_count": null,
   "metadata": {},
   "outputs": [],
   "source": []
  }
 ],
 "metadata": {
  "kernelspec": {
   "display_name": "Python 3",
   "language": "python",
   "name": "python3"
  },
  "language_info": {
   "codemirror_mode": {
    "name": "ipython",
    "version": 3
   },
   "file_extension": ".py",
   "mimetype": "text/x-python",
   "name": "python",
   "nbconvert_exporter": "python",
   "pygments_lexer": "ipython3",
   "version": "3.8.5"
  }
 },
 "nbformat": 4,
 "nbformat_minor": 4
}
